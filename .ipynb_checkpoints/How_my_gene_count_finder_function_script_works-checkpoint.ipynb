{
 "cells": [
  {
   "cell_type": "markdown",
   "metadata": {},
   "source": [
    "#### This python script is a function that takes a .txt file containing some gene IDs as argument, and searches for the expression counts of these genes in the transcriptome of Aurelia, and outputs a file of the count data for those genes.\n",
    "\n",
    "##### This scipt is meant to be executed in shell, as the function takes as argument the .txt file that contains the list of gene IDs to be quarried.\n",
    "\n",
    "```\n",
    "data_list = []\n",
    "def GeneCountFinder():\n",
    "\timport sys\n",
    "\timport re\n",
    "\twith open(sys.argv[1]) as gene_quarry: \n",
    "\t\tquarry_list = gene_quarry.readlines() # reads the file line by line, outputs a list\n",
    "\t\tformatted_quarry_list = []\n",
    "\t\tfor elem in quarry_list[1:]:\n",
    "\t\t\tformatted_quarry_list.append(elem.replace(\"\\n\", \"\")) # formats the list to exclude special character/line breaks\n",
    "\t\tprint(\"Quarrying: \" + str(formatted_quarry_list))\n",
    "\t\twith open(\"/home/eeb177-student/Desktop/eeb-177/final-proj/Aurelia_RSEM_10-18-16.TMM.EXPR.100aa.matrix\", \"r\") as express_matrix: \n",
    "\t\t\tfor line in express_matrix: # opens Aurelia expression count data file\n",
    "\t\t\t\tfor ii in formatted_quarry_list: \n",
    "\t\t\t\t\tif re.search(ii, line):\n",
    "\t\t\t\t\t\tdata_elem = re.search(ii + r'.*$', line) # search for line containing the gene ID of interest\n",
    "\t\t\t\t\t\tdata_list.append(data_elem.group(0))\n",
    "\treturn data_list\n",
    "\n",
    "quarry_result = GeneCountFinder() # calls the function and writes results to a variable\n",
    "\n",
    "ticker = 0\n",
    "outfile = open(\"gene_counts_of_interest.txt\", \"w\") # writes results to a new file \n",
    "while ticker < len(quarry_result):\n",
    "    outfile.write(quarry_result[ticker] + \"\\n\")\n",
    "    ticker = ticker + 1\n",
    "\n",
    "outfile.close()\n",
    "```\n",
    "\n",
    "### For demonstration that this function works, see the following files in the repository:\n",
    "#### Input file 'eye_dev_enrichment_genes.txt' contains the gene IDs that I quarried\n",
    "#### Output file 'gene_counts_of_interest.txt' contains the results\n",
    "#### The Aurelia transcriptome/expression counts data file is too big so it is not uploaded, for a subset of the file to see how it is formatted, please see 'Aurelia_counts_testfile.matrix'"
   ]
  },
  {
   "cell_type": "code",
   "execution_count": 34,
   "metadata": {
    "collapsed": true
   },
   "outputs": [],
   "source": [
    "# test, please ignore\n",
    "foo = [\"aaaaa\", \"aaaaadsfasd\", \"aaaaa551asdvd\", \"ads445aaa\", \"5aaaaa4sdf53a165aa\",\"1aaaa5516\"]\n",
    "bar = \"aa\""
   ]
  },
  {
   "cell_type": "code",
   "execution_count": 37,
   "metadata": {
    "collapsed": false
   },
   "outputs": [
    {
     "name": "stdout",
     "output_type": "stream",
     "text": [
      "aaaaa\n",
      "aaaaadsfasd\n",
      "aaaaa551asdvd\n",
      "5aaa\n",
      "5aaaaa4sdf53a165aa\n",
      "1aaaa5516\n"
     ]
    }
   ],
   "source": [
    "# test\n",
    "import re\n",
    "for ii in foo:\n",
    "    if re.search(\".*\", ii):\n",
    "        data_elem = re.search(bar + r\"\\w*\", ii).group(0)\n",
    "        print(data_elem)\n",
    "#         data_list.append(data_elem.group(0))"
   ]
  },
  {
   "cell_type": "code",
   "execution_count": null,
   "metadata": {
    "collapsed": true
   },
   "outputs": [],
   "source": []
  }
 ],
 "metadata": {
  "anaconda-cloud": {},
  "kernelspec": {
   "display_name": "Python [default]",
   "language": "python",
   "name": "python3"
  },
  "language_info": {
   "codemirror_mode": {
    "name": "ipython",
    "version": 3
   },
   "file_extension": ".py",
   "mimetype": "text/x-python",
   "name": "python",
   "nbconvert_exporter": "python",
   "pygments_lexer": "ipython3",
   "version": "3.5.2"
  }
 },
 "nbformat": 4,
 "nbformat_minor": 2
}
