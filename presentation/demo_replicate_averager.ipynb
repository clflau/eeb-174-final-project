{
 "cells": [
  {
   "cell_type": "code",
   "execution_count": 1,
   "metadata": {
    "collapsed": false
   },
   "outputs": [
    {
     "name": "stdout",
     "output_type": "stream",
     "text": [
      "Enter the name of the input file: cl3.txt\n"
     ]
    }
   ],
   "source": [
    "\"\"\"\n",
    "This python code will take the Aurelia expression count data and calculate the average expression levels across\n",
    "the biological replicates of each of the life stages of Aurelia. \n",
    "\"\"\"\n",
    "\n",
    "# First read in the file with the expression count data\n",
    "# Data should be structured as tab separated file with 19 columns\n",
    "# First column is geneID\n",
    "# Next two columns are for 'early planula'\n",
    "# Next two columns are for 'late planula'\n",
    "# Next three columns are for 'polyps'\n",
    "# Next three columns are for 'early strobila'\n",
    "# Next three columns are for 'late strobila'\n",
    "# Next three columns are for 'ephyra'\n",
    "# Final two columns are for 'juvenile'\n",
    "\n",
    "import numpy as np\n",
    "import pandas as pd\n",
    "\n",
    "file_to_open = input(\"Enter the name of the input file: \")\n",
    "with open(file_to_open) as expression_data:\n",
    "    expression_data.readline()\n",
    "    data_array = pd.read_csv(file_to_open, sep = \"\\t\", header = 0)\n",
    "    "
   ]
  },
  {
   "cell_type": "code",
   "execution_count": 3,
   "metadata": {
    "collapsed": false
   },
   "outputs": [],
   "source": [
    "data_array[0:5]"
   ]
  },
  {
   "cell_type": "code",
   "execution_count": 4,
   "metadata": {
    "collapsed": false
   },
   "outputs": [],
   "source": [
    "# Calculate means\n",
    "e_plan_mean = data_array.iloc[ : , [0, 1]].mean(axis = 1).round(4)\n",
    "l_plan_mean = data_array.iloc[ : , [2, 3]].mean(axis = 1).round(4)\n",
    "polyp_mean = data_array.iloc[ : , [4, 5, 6]].mean(axis = 1).round(4)\n",
    "e_strob_mean = data_array.iloc[ : , [7, 8, 9]].mean(axis = 1).round(4)\n",
    "l_strob_mean = data_array.iloc[ : , [10, 11, 12]].mean(axis = 1).round(4)\n",
    "ephyra_mean = data_array.iloc[ : , [13, 14, 15]].mean(axis = 1).round(4)\n",
    "juven_mean = data_array.iloc[ : , [16, 17]].mean(axis = 1).round(4)"
   ]
  },
  {
   "cell_type": "code",
   "execution_count": 5,
   "metadata": {
    "collapsed": false
   },
   "outputs": [
    {
     "name": "stdout",
     "output_type": "stream",
     "text": [
      "Enter the name of the file to write to: temp\n"
     ]
    }
   ],
   "source": [
    "mean_matrix = pd.concat([e_plan_mean, l_plan_mean, polyp_mean, e_strob_mean, l_strob_mean, ephyra_mean, juven_mean], axis = 1)\n",
    "mean_matrix.columns = [\"early planula\", \"late planula\", \"polyp\", \"early strobila\", \"late strobila\", \"ephyra\", \"juvenile\"]\n",
    "\n",
    "\n",
    "file_to_write_to = input(\"Enter the name of the file to write to: \")\n",
    "mean_matrix.to_csv(file_to_write_to, sep = '\\t')"
   ]
  },
  {
   "cell_type": "code",
   "execution_count": 11,
   "metadata": {
    "collapsed": false
   },
   "outputs": [
    {
     "name": "stdout",
     "output_type": "stream",
     "text": [
      "   a  b  c  d  q\n",
      "0  1  2  3  0  5\n",
      "1  1  2  3  4  5\n",
      "2  1  1  1  6  1\n",
      "3  1  0  0  0  0\n"
     ]
    },
    {
     "data": {
      "text/plain": [
       "a    1.0\n",
       "b    1.0\n",
       "d    2.0\n",
       "dtype: float64"
      ]
     },
     "execution_count": 11,
     "metadata": {},
     "output_type": "execute_result"
    }
   ],
   "source": [
    "#####################################################################################################################\n",
    "# # Testbed\n",
    "\n",
    "# # Figuring out how pandas constructs dataframes\n",
    "# df = pd.DataFrame(\n",
    "# np.array([[1,2,3,0,5],[1,2,3,4,5],[1,1,1,6,1],[1,0,0,0,0]]), # It looks like dataframe is filled in by rows\n",
    "# columns = [\"a\", \"b\", \"c\", \"d\", \"q\"], # Column names\n",
    "# index = [0,1,2,3] # Row names\n",
    "# )\n",
    "# print(df)\n",
    "\n",
    "# # Take the mean of 0, 2, 3 rows for each a, b, d columns\n",
    "# df.iloc[[0, 2, 3], [0, 1, 3]].mean(axis = 0)"
   ]
  },
  {
   "cell_type": "code",
   "execution_count": 17,
   "metadata": {
    "collapsed": false
   },
   "outputs": [
    {
     "data": {
      "text/plain": [
       "0    1.5\n",
       "1    1.5\n",
       "2    1.0\n",
       "3    0.5\n",
       "dtype: float64"
      ]
     },
     "execution_count": 17,
     "metadata": {},
     "output_type": "execute_result"
    }
   ],
   "source": [
    "# # Testbed\n",
    "\n",
    "# # Take the mean of columns a and b for each row in dataframe\n",
    "# df.iloc[ : , [0, 1]].mean(axis = 1)"
   ]
  },
  {
   "cell_type": "code",
   "execution_count": null,
   "metadata": {
    "collapsed": true
   },
   "outputs": [],
   "source": []
  }
 ],
 "metadata": {
  "anaconda-cloud": {},
  "kernelspec": {
   "display_name": "Python [default]",
   "language": "python",
   "name": "python3"
  },
  "language_info": {
   "codemirror_mode": {
    "name": "ipython",
    "version": 3
   },
   "file_extension": ".py",
   "mimetype": "text/x-python",
   "name": "python",
   "nbconvert_exporter": "python",
   "pygments_lexer": "ipython3",
   "version": "3.5.2"
  }
 },
 "nbformat": 4,
 "nbformat_minor": 2
}
