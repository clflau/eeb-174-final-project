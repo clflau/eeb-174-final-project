{
 "cells": [
  {
   "cell_type": "code",
   "execution_count": 2,
   "metadata": {
    "collapsed": false
   },
   "outputs": [
    {
     "name": "stdout",
     "output_type": "stream",
     "text": [
      "Enter the name of the input file: cl3.txt\n"
     ]
    }
   ],
   "source": [
    "\"\"\"\n",
    "This python code will take the Aurelia expression count data and calculate the average expression levels across\n",
    "the biological replicates of each of the life stages of Aurelia. \n",
    "\"\"\"\n",
    "\n",
    "# First read in the file with the expression count data\n",
    "# Data should be structured as tab separated file with 19 columns\n",
    "# First column is geneID\n",
    "# Next two columns are for 'early planula'\n",
    "# Next two columns are for 'late planula'\n",
    "# Next three columns are for 'polyps'\n",
    "# Next three columns are for 'early strobila'\n",
    "# Next three columns are for 'late strobila'\n",
    "# Next three columns are for 'ephyra'\n",
    "# Final two columns are for 'juvenile'\n",
    "\n",
    "import numpy as np\n",
    "import pandas as pd\n",
    "\n",
    "file_to_open = input(\"Enter the name of the input file: \")\n",
    "with open(file_to_open) as expression_data:\n",
    "    expression_data.readline()\n",
    "    data_array = pd.read_csv(file_to_open, sep = \"\\t\", header = 0)\n",
    "    "
   ]
  },
  {
   "cell_type": "code",
   "execution_count": 3,
   "metadata": {
    "collapsed": false
   },
   "outputs": [
    {
     "data": {
      "text/html": [
       "<div>\n",
       "<table border=\"1\" class=\"dataframe\">\n",
       "  <thead>\n",
       "    <tr style=\"text-align: right;\">\n",
       "      <th></th>\n",
       "      <th>Planula_Early_1_AR012_RSEM</th>\n",
       "      <th>Planula_Early_2_AR002_RSEM</th>\n",
       "      <th>Planula_Late_1_AR019_RSEM</th>\n",
       "      <th>Planula_Late_3_AR002_RSEM</th>\n",
       "      <th>Polyp_1_RSEM</th>\n",
       "      <th>Polyp_2_AR005_RSEM</th>\n",
       "      <th>Polyp_3_AR006_RSEM</th>\n",
       "      <th>Strobila_Early_1_AR019_RSEM</th>\n",
       "      <th>Strobila_Early_2_AR006_RSEM</th>\n",
       "      <th>Strobila_Early_3_AR005_RSEM</th>\n",
       "      <th>Strobila_Late_1_AR015_RSEM</th>\n",
       "      <th>Strobila_Late_2_AR005_RSEM</th>\n",
       "      <th>Strobila_Late_3_AR019_RSEM</th>\n",
       "      <th>Ephyra_1_AR019_RSEM</th>\n",
       "      <th>Ephyra_2_AR012_RSEM</th>\n",
       "      <th>Ephyra_3_AR018_RSEM</th>\n",
       "      <th>Juvenile_1_AR002_RSEM</th>\n",
       "      <th>Juvenile_2_AR013_RSEM</th>\n",
       "    </tr>\n",
       "  </thead>\n",
       "  <tbody>\n",
       "    <tr>\n",
       "      <th>evm.model.Seg1000.16</th>\n",
       "      <td>0.155</td>\n",
       "      <td>6.612</td>\n",
       "      <td>0.250</td>\n",
       "      <td>0.054</td>\n",
       "      <td>0.796</td>\n",
       "      <td>0.239</td>\n",
       "      <td>1.866</td>\n",
       "      <td>16.470</td>\n",
       "      <td>16.506</td>\n",
       "      <td>11.410</td>\n",
       "      <td>1.629</td>\n",
       "      <td>6.202</td>\n",
       "      <td>5.749</td>\n",
       "      <td>0.110</td>\n",
       "      <td>41.696</td>\n",
       "      <td>17.495</td>\n",
       "      <td>0.231</td>\n",
       "      <td>0.492</td>\n",
       "    </tr>\n",
       "    <tr>\n",
       "      <th>evm.model.Seg100.4</th>\n",
       "      <td>0.155</td>\n",
       "      <td>0.504</td>\n",
       "      <td>0.000</td>\n",
       "      <td>0.000</td>\n",
       "      <td>0.454</td>\n",
       "      <td>2.086</td>\n",
       "      <td>0.256</td>\n",
       "      <td>0.267</td>\n",
       "      <td>0.120</td>\n",
       "      <td>0.130</td>\n",
       "      <td>0.400</td>\n",
       "      <td>0.221</td>\n",
       "      <td>0.289</td>\n",
       "      <td>5.139</td>\n",
       "      <td>18.232</td>\n",
       "      <td>4.748</td>\n",
       "      <td>5.377</td>\n",
       "      <td>21.319</td>\n",
       "    </tr>\n",
       "    <tr>\n",
       "      <th>evm.model.Seg100.5</th>\n",
       "      <td>7.590</td>\n",
       "      <td>24.085</td>\n",
       "      <td>4.877</td>\n",
       "      <td>3.696</td>\n",
       "      <td>3.860</td>\n",
       "      <td>5.780</td>\n",
       "      <td>2.020</td>\n",
       "      <td>6.187</td>\n",
       "      <td>7.731</td>\n",
       "      <td>9.680</td>\n",
       "      <td>32.316</td>\n",
       "      <td>25.266</td>\n",
       "      <td>17.990</td>\n",
       "      <td>13.034</td>\n",
       "      <td>102.476</td>\n",
       "      <td>54.275</td>\n",
       "      <td>28.519</td>\n",
       "      <td>26.396</td>\n",
       "    </tr>\n",
       "    <tr>\n",
       "      <th>evm.model.Seg10052.1</th>\n",
       "      <td>0.163</td>\n",
       "      <td>0.258</td>\n",
       "      <td>0.104</td>\n",
       "      <td>1.125</td>\n",
       "      <td>1.577</td>\n",
       "      <td>2.941</td>\n",
       "      <td>17.207</td>\n",
       "      <td>20.715</td>\n",
       "      <td>17.962</td>\n",
       "      <td>21.991</td>\n",
       "      <td>7.559</td>\n",
       "      <td>7.161</td>\n",
       "      <td>9.016</td>\n",
       "      <td>1.919</td>\n",
       "      <td>3.955</td>\n",
       "      <td>6.538</td>\n",
       "      <td>4.753</td>\n",
       "      <td>4.614</td>\n",
       "    </tr>\n",
       "    <tr>\n",
       "      <th>evm.model.Seg1005.4.3.57f48f75</th>\n",
       "      <td>0.955</td>\n",
       "      <td>1.279</td>\n",
       "      <td>0.632</td>\n",
       "      <td>0.429</td>\n",
       "      <td>0.283</td>\n",
       "      <td>0.522</td>\n",
       "      <td>2.685</td>\n",
       "      <td>2.560</td>\n",
       "      <td>2.490</td>\n",
       "      <td>1.683</td>\n",
       "      <td>0.877</td>\n",
       "      <td>1.624</td>\n",
       "      <td>1.629</td>\n",
       "      <td>5.770</td>\n",
       "      <td>0.669</td>\n",
       "      <td>0.657</td>\n",
       "      <td>1.364</td>\n",
       "      <td>0.535</td>\n",
       "    </tr>\n",
       "  </tbody>\n",
       "</table>\n",
       "</div>"
      ],
      "text/plain": [
       "                                Planula_Early_1_AR012_RSEM  \\\n",
       "evm.model.Seg1000.16                                 0.155   \n",
       "evm.model.Seg100.4                                   0.155   \n",
       "evm.model.Seg100.5                                   7.590   \n",
       "evm.model.Seg10052.1                                 0.163   \n",
       "evm.model.Seg1005.4.3.57f48f75                       0.955   \n",
       "\n",
       "                                Planula_Early_2_AR002_RSEM  \\\n",
       "evm.model.Seg1000.16                                 6.612   \n",
       "evm.model.Seg100.4                                   0.504   \n",
       "evm.model.Seg100.5                                  24.085   \n",
       "evm.model.Seg10052.1                                 0.258   \n",
       "evm.model.Seg1005.4.3.57f48f75                       1.279   \n",
       "\n",
       "                                Planula_Late_1_AR019_RSEM  \\\n",
       "evm.model.Seg1000.16                                0.250   \n",
       "evm.model.Seg100.4                                  0.000   \n",
       "evm.model.Seg100.5                                  4.877   \n",
       "evm.model.Seg10052.1                                0.104   \n",
       "evm.model.Seg1005.4.3.57f48f75                      0.632   \n",
       "\n",
       "                                Planula_Late_3_AR002_RSEM  Polyp_1_RSEM  \\\n",
       "evm.model.Seg1000.16                                0.054         0.796   \n",
       "evm.model.Seg100.4                                  0.000         0.454   \n",
       "evm.model.Seg100.5                                  3.696         3.860   \n",
       "evm.model.Seg10052.1                                1.125         1.577   \n",
       "evm.model.Seg1005.4.3.57f48f75                      0.429         0.283   \n",
       "\n",
       "                                Polyp_2_AR005_RSEM  Polyp_3_AR006_RSEM  \\\n",
       "evm.model.Seg1000.16                         0.239               1.866   \n",
       "evm.model.Seg100.4                           2.086               0.256   \n",
       "evm.model.Seg100.5                           5.780               2.020   \n",
       "evm.model.Seg10052.1                         2.941              17.207   \n",
       "evm.model.Seg1005.4.3.57f48f75               0.522               2.685   \n",
       "\n",
       "                                Strobila_Early_1_AR019_RSEM  \\\n",
       "evm.model.Seg1000.16                                 16.470   \n",
       "evm.model.Seg100.4                                    0.267   \n",
       "evm.model.Seg100.5                                    6.187   \n",
       "evm.model.Seg10052.1                                 20.715   \n",
       "evm.model.Seg1005.4.3.57f48f75                        2.560   \n",
       "\n",
       "                                Strobila_Early_2_AR006_RSEM  \\\n",
       "evm.model.Seg1000.16                                 16.506   \n",
       "evm.model.Seg100.4                                    0.120   \n",
       "evm.model.Seg100.5                                    7.731   \n",
       "evm.model.Seg10052.1                                 17.962   \n",
       "evm.model.Seg1005.4.3.57f48f75                        2.490   \n",
       "\n",
       "                                Strobila_Early_3_AR005_RSEM  \\\n",
       "evm.model.Seg1000.16                                 11.410   \n",
       "evm.model.Seg100.4                                    0.130   \n",
       "evm.model.Seg100.5                                    9.680   \n",
       "evm.model.Seg10052.1                                 21.991   \n",
       "evm.model.Seg1005.4.3.57f48f75                        1.683   \n",
       "\n",
       "                                Strobila_Late_1_AR015_RSEM  \\\n",
       "evm.model.Seg1000.16                                 1.629   \n",
       "evm.model.Seg100.4                                   0.400   \n",
       "evm.model.Seg100.5                                  32.316   \n",
       "evm.model.Seg10052.1                                 7.559   \n",
       "evm.model.Seg1005.4.3.57f48f75                       0.877   \n",
       "\n",
       "                                Strobila_Late_2_AR005_RSEM  \\\n",
       "evm.model.Seg1000.16                                 6.202   \n",
       "evm.model.Seg100.4                                   0.221   \n",
       "evm.model.Seg100.5                                  25.266   \n",
       "evm.model.Seg10052.1                                 7.161   \n",
       "evm.model.Seg1005.4.3.57f48f75                       1.624   \n",
       "\n",
       "                                Strobila_Late_3_AR019_RSEM  \\\n",
       "evm.model.Seg1000.16                                 5.749   \n",
       "evm.model.Seg100.4                                   0.289   \n",
       "evm.model.Seg100.5                                  17.990   \n",
       "evm.model.Seg10052.1                                 9.016   \n",
       "evm.model.Seg1005.4.3.57f48f75                       1.629   \n",
       "\n",
       "                                Ephyra_1_AR019_RSEM  Ephyra_2_AR012_RSEM  \\\n",
       "evm.model.Seg1000.16                          0.110               41.696   \n",
       "evm.model.Seg100.4                            5.139               18.232   \n",
       "evm.model.Seg100.5                           13.034              102.476   \n",
       "evm.model.Seg10052.1                          1.919                3.955   \n",
       "evm.model.Seg1005.4.3.57f48f75                5.770                0.669   \n",
       "\n",
       "                                Ephyra_3_AR018_RSEM  Juvenile_1_AR002_RSEM  \\\n",
       "evm.model.Seg1000.16                         17.495                  0.231   \n",
       "evm.model.Seg100.4                            4.748                  5.377   \n",
       "evm.model.Seg100.5                           54.275                 28.519   \n",
       "evm.model.Seg10052.1                          6.538                  4.753   \n",
       "evm.model.Seg1005.4.3.57f48f75                0.657                  1.364   \n",
       "\n",
       "                                Juvenile_2_AR013_RSEM  \n",
       "evm.model.Seg1000.16                            0.492  \n",
       "evm.model.Seg100.4                             21.319  \n",
       "evm.model.Seg100.5                             26.396  \n",
       "evm.model.Seg10052.1                            4.614  \n",
       "evm.model.Seg1005.4.3.57f48f75                  0.535  "
      ]
     },
     "execution_count": 3,
     "metadata": {},
     "output_type": "execute_result"
    }
   ],
   "source": [
    "data_array[0:5]"
   ]
  },
  {
   "cell_type": "code",
   "execution_count": 4,
   "metadata": {
    "collapsed": false
   },
   "outputs": [],
   "source": [
    "# Calculate means\n",
    "e_plan_mean = data_array.iloc[ : , [0, 1]].mean(axis = 1).round(4)\n",
    "l_plan_mean = data_array.iloc[ : , [2, 3]].mean(axis = 1).round(4)\n",
    "polyp_mean = data_array.iloc[ : , [4, 5, 6]].mean(axis = 1).round(4)\n",
    "e_strob_mean = data_array.iloc[ : , [7, 8, 9]].mean(axis = 1).round(4)\n",
    "l_strob_mean = data_array.iloc[ : , [10, 11, 12]].mean(axis = 1).round(4)\n",
    "ephyra_mean = data_array.iloc[ : , [13, 14, 15]].mean(axis = 1).round(4)\n",
    "juven_mean = data_array.iloc[ : , [16, 17]].mean(axis = 1).round(4)"
   ]
  },
  {
   "cell_type": "code",
   "execution_count": 5,
   "metadata": {
    "collapsed": false
   },
   "outputs": [
    {
     "name": "stdout",
     "output_type": "stream",
     "text": [
      "Enter the name of the file to write to: temp\n"
     ]
    }
   ],
   "source": [
    "mean_matrix = pd.concat([e_plan_mean, l_plan_mean, polyp_mean, e_strob_mean, l_strob_mean, ephyra_mean, juven_mean], axis = 1)\n",
    "mean_matrix.columns = [\"early planula\", \"late planula\", \"polyp\", \"early strobila\", \"late strobila\", \"ephyra\", \"juvenile\"]\n",
    "\n",
    "\n",
    "file_to_write_to = input(\"Enter the name of the file to write to: \")\n",
    "mean_matrix.to_csv(file_to_write_to, sep = '\\t')"
   ]
  },
  {
   "cell_type": "code",
   "execution_count": 11,
   "metadata": {
    "collapsed": false
   },
   "outputs": [
    {
     "name": "stdout",
     "output_type": "stream",
     "text": [
      "   a  b  c  d  q\n",
      "0  1  2  3  0  5\n",
      "1  1  2  3  4  5\n",
      "2  1  1  1  6  1\n",
      "3  1  0  0  0  0\n"
     ]
    },
    {
     "data": {
      "text/plain": [
       "a    1.0\n",
       "b    1.0\n",
       "d    2.0\n",
       "dtype: float64"
      ]
     },
     "execution_count": 11,
     "metadata": {},
     "output_type": "execute_result"
    }
   ],
   "source": [
    "#####################################################################################################################\n",
    "# # Testbed\n",
    "\n",
    "# # Figuring out how pandas constructs dataframes\n",
    "# df = pd.DataFrame(\n",
    "# np.array([[1,2,3,0,5],[1,2,3,4,5],[1,1,1,6,1],[1,0,0,0,0]]), # It looks like dataframe is filled in by rows\n",
    "# columns = [\"a\", \"b\", \"c\", \"d\", \"q\"], # Column names\n",
    "# index = [0,1,2,3] # Row names\n",
    "# )\n",
    "# print(df)\n",
    "\n",
    "# # Take the mean of 0, 2, 3 rows for each a, b, d columns\n",
    "# df.iloc[[0, 2, 3], [0, 1, 3]].mean(axis = 0)"
   ]
  },
  {
   "cell_type": "code",
   "execution_count": 17,
   "metadata": {
    "collapsed": false
   },
   "outputs": [
    {
     "data": {
      "text/plain": [
       "0    1.5\n",
       "1    1.5\n",
       "2    1.0\n",
       "3    0.5\n",
       "dtype: float64"
      ]
     },
     "execution_count": 17,
     "metadata": {},
     "output_type": "execute_result"
    }
   ],
   "source": [
    "# # Testbed\n",
    "\n",
    "# # Take the mean of columns a and b for each row in dataframe\n",
    "# df.iloc[ : , [0, 1]].mean(axis = 1)"
   ]
  },
  {
   "cell_type": "code",
   "execution_count": null,
   "metadata": {
    "collapsed": true
   },
   "outputs": [],
   "source": []
  }
 ],
 "metadata": {
  "anaconda-cloud": {},
  "kernelspec": {
   "display_name": "Python [default]",
   "language": "python",
   "name": "python3"
  },
  "language_info": {
   "codemirror_mode": {
    "name": "ipython",
    "version": 3
   },
   "file_extension": ".py",
   "mimetype": "text/x-python",
   "name": "python",
   "nbconvert_exporter": "python",
   "pygments_lexer": "ipython3",
   "version": "3.5.2"
  }
 },
 "nbformat": 4,
 "nbformat_minor": 2
}
