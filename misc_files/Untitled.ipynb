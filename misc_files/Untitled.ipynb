{
 "cells": [
  {
   "cell_type": "code",
   "execution_count": 1,
   "metadata": {
    "collapsed": true
   },
   "outputs": [],
   "source": [
    "import sys\n",
    "import re\n",
    "import csv\n",
    "\n",
    "with open(\"annotation.csv\", newline = \"\\n\") as annotations:\n",
    "    annotations.readline()\n",
    "    annotation_reader = csv.reader(annotations, delimiter = \",\")\n",
    "    # create dictionary of annotations\n",
    "    model_name_list = []\n",
    "    sprot_anno_list = []\n",
    "    for row in annotation_reader:\n",
    "        model_name_list.append(row[0])\n",
    "        sprot_anno_list.append(row[1])\n",
    "    annotations_dict = {}\n",
    "    for ii in range(len(model_name_list)):\n",
    "        annotations_dict[model_name_list[ii]] = sprot_anno_list[ii]"
   ]
  },
  {
   "cell_type": "code",
   "execution_count": 40,
   "metadata": {
    "collapsed": false
   },
   "outputs": [],
   "source": [
    "with open(\"mean_cluster3_counts.csv\", newline = \"\\n\") as count_file: # replace with sys.argv[1] later\n",
    "    header_line = count_file.readline().strip()\n",
    "    count_reader = csv.reader(count_file, delimiter='\\t')\n",
    "    # pseudocode\n",
    "    # for each row in count_reader, use row[0] as key in annotations_dict to find corresponding dict value\n",
    "    # if the returning dict value is '.', do nothing, continue to next row\n",
    "    # if the returning dict value is NOT '.', replace row[0] with that dict value\n",
    "    new_row_list = []\n",
    "    for row in count_reader:\n",
    "        if annotations_dict[row[0]] != '.':\n",
    "            row[0] = annotations_dict[row[0]]\n",
    "            new_row_list.append(row)\n",
    "        else:\n",
    "            new_row_list.append(row)\n",
    "\n",
    "# What if multiple gene models Blast matched to the same Swissprot?            \n",
    "\n",
    "first_item = []  # make list of all gene model/Swissprot annotations          \n",
    "for item in new_row_list:\n",
    "    first_item.append(item[0])\n",
    "        \n",
    "        \n",
    "from collections import defaultdict\n",
    "\n",
    "def list_duplicates(list_with_dups):\n",
    "    tally = defaultdict(list)\n",
    "    for i,item in enumerate(list_with_dups):\n",
    "        tally[item].append(i)\n",
    "    dup_list = []\n",
    "    for key, index in tally.items():\n",
    "        if len(index) > 1:\n",
    "            dup_list.append(index)\n",
    "    return dup_list\n",
    "\n",
    "dup_list = list_duplicates(first_item)\n",
    "\n",
    "# for all duplicate Swissprot names, add in a number at the end to make them all different\n",
    "for item in dup_list:\n",
    "    for ii in item:\n",
    "        new_row_list[ii][0] = new_row_list[ii][0] + \"({})\".format(ii)\n",
    "        \n",
    "           \n"
   ]
  },
  {
   "cell_type": "code",
   "execution_count": null,
   "metadata": {
    "collapsed": true
   },
   "outputs": [],
   "source": [
    "with open(\"mean_cluster3_counts.csv\"[:-4] + \"_evm_replaced.csv\", \"a\") as outfile: # replace with sys.argv[1][:-4] + \"_evm_replaced.csv\"\n",
    "    outfile.write(\"\\t\" + header_line + \"\\n\")\n",
    "    writer = csv.writer(outfile, delimiter = \"\\t\")\n",
    "    writer.writerows(new_row_list)"
   ]
  }
 ],
 "metadata": {
  "anaconda-cloud": {},
  "kernelspec": {
   "display_name": "Python [default]",
   "language": "python",
   "name": "python3"
  },
  "language_info": {
   "codemirror_mode": {
    "name": "ipython",
    "version": 3
   },
   "file_extension": ".py",
   "mimetype": "text/x-python",
   "name": "python",
   "nbconvert_exporter": "python",
   "pygments_lexer": "ipython3",
   "version": "3.5.2"
  }
 },
 "nbformat": 4,
 "nbformat_minor": 2
}
